{
 "cells": [
  {
   "cell_type": "markdown",
   "id": "a10b959f",
   "metadata": {},
   "source": [
    "## Kaggle MNIST Competition\n",
    "\n",
    "\n",
    "TODO:\n",
    "- Introduction to the Kaggle competition\n",
    "- Introduce the problem statement \n",
    "- Mention tools and libraries used and import\n",
    "- Import and Visualize the dataset\n",
    "- Data Cleaning and Munging\n",
    "- Data Preprocessing\n",
    "- Prediction"
   ]
  },
  {
   "cell_type": "code",
   "execution_count": null,
   "id": "d1bffa96",
   "metadata": {},
   "outputs": [],
   "source": []
  },
  {
   "cell_type": "code",
   "execution_count": 1,
   "id": "fe9e90ed",
   "metadata": {},
   "outputs": [],
   "source": [
    "import pandas as pd\n",
    "import numpy as np\n",
    "from sklearn.model_selection import StratifiedShuffleSplit\n",
    "import matplotlib.pyplot as plt\n",
    "from sklearn.pipeline import Pipeline\n",
    "from sklearn.preprocessing import StandardScaler\n",
    "from sklearn.ensemble import BaggingClassifier\n",
    "from sklearn.tree import DecisionTreeClassifier\n"
   ]
  },
  {
   "cell_type": "code",
   "execution_count": null,
   "id": "cd491dd6",
   "metadata": {},
   "outputs": [],
   "source": []
  },
  {
   "cell_type": "code",
   "execution_count": null,
   "id": "61865ed1",
   "metadata": {},
   "outputs": [],
   "source": []
  },
  {
   "cell_type": "code",
   "execution_count": 2,
   "id": "43bd6538",
   "metadata": {},
   "outputs": [],
   "source": [
    "digits_path = r'C:/Users/BOTS/Desktop/MachineLearning/SupervisedLearning/Classification/'\n",
    "\n",
    "digits_train = digits_path + 'train.csv'\n",
    "\n",
    "digits_csv = pd.read_csv(digits_train)\n",
    "\n",
    "train_df = pd.DataFrame(digits_csv)"
   ]
  },
  {
   "cell_type": "markdown",
   "id": "550fdf5b",
   "metadata": {},
   "source": [
    "## Visualize the dataset"
   ]
  },
  {
   "cell_type": "code",
   "execution_count": 3,
   "id": "26068f6a",
   "metadata": {},
   "outputs": [
    {
     "data": {
      "text/html": [
       "<div>\n",
       "<style scoped>\n",
       "    .dataframe tbody tr th:only-of-type {\n",
       "        vertical-align: middle;\n",
       "    }\n",
       "\n",
       "    .dataframe tbody tr th {\n",
       "        vertical-align: top;\n",
       "    }\n",
       "\n",
       "    .dataframe thead th {\n",
       "        text-align: right;\n",
       "    }\n",
       "</style>\n",
       "<table border=\"1\" class=\"dataframe\">\n",
       "  <thead>\n",
       "    <tr style=\"text-align: right;\">\n",
       "      <th></th>\n",
       "      <th>label</th>\n",
       "      <th>pixel0</th>\n",
       "      <th>pixel1</th>\n",
       "      <th>pixel2</th>\n",
       "      <th>pixel3</th>\n",
       "      <th>pixel4</th>\n",
       "      <th>pixel5</th>\n",
       "      <th>pixel6</th>\n",
       "      <th>pixel7</th>\n",
       "      <th>pixel8</th>\n",
       "      <th>...</th>\n",
       "      <th>pixel774</th>\n",
       "      <th>pixel775</th>\n",
       "      <th>pixel776</th>\n",
       "      <th>pixel777</th>\n",
       "      <th>pixel778</th>\n",
       "      <th>pixel779</th>\n",
       "      <th>pixel780</th>\n",
       "      <th>pixel781</th>\n",
       "      <th>pixel782</th>\n",
       "      <th>pixel783</th>\n",
       "    </tr>\n",
       "  </thead>\n",
       "  <tbody>\n",
       "    <tr>\n",
       "      <th>0</th>\n",
       "      <td>1</td>\n",
       "      <td>0</td>\n",
       "      <td>0</td>\n",
       "      <td>0</td>\n",
       "      <td>0</td>\n",
       "      <td>0</td>\n",
       "      <td>0</td>\n",
       "      <td>0</td>\n",
       "      <td>0</td>\n",
       "      <td>0</td>\n",
       "      <td>...</td>\n",
       "      <td>0</td>\n",
       "      <td>0</td>\n",
       "      <td>0</td>\n",
       "      <td>0</td>\n",
       "      <td>0</td>\n",
       "      <td>0</td>\n",
       "      <td>0</td>\n",
       "      <td>0</td>\n",
       "      <td>0</td>\n",
       "      <td>0</td>\n",
       "    </tr>\n",
       "    <tr>\n",
       "      <th>1</th>\n",
       "      <td>0</td>\n",
       "      <td>0</td>\n",
       "      <td>0</td>\n",
       "      <td>0</td>\n",
       "      <td>0</td>\n",
       "      <td>0</td>\n",
       "      <td>0</td>\n",
       "      <td>0</td>\n",
       "      <td>0</td>\n",
       "      <td>0</td>\n",
       "      <td>...</td>\n",
       "      <td>0</td>\n",
       "      <td>0</td>\n",
       "      <td>0</td>\n",
       "      <td>0</td>\n",
       "      <td>0</td>\n",
       "      <td>0</td>\n",
       "      <td>0</td>\n",
       "      <td>0</td>\n",
       "      <td>0</td>\n",
       "      <td>0</td>\n",
       "    </tr>\n",
       "    <tr>\n",
       "      <th>2</th>\n",
       "      <td>1</td>\n",
       "      <td>0</td>\n",
       "      <td>0</td>\n",
       "      <td>0</td>\n",
       "      <td>0</td>\n",
       "      <td>0</td>\n",
       "      <td>0</td>\n",
       "      <td>0</td>\n",
       "      <td>0</td>\n",
       "      <td>0</td>\n",
       "      <td>...</td>\n",
       "      <td>0</td>\n",
       "      <td>0</td>\n",
       "      <td>0</td>\n",
       "      <td>0</td>\n",
       "      <td>0</td>\n",
       "      <td>0</td>\n",
       "      <td>0</td>\n",
       "      <td>0</td>\n",
       "      <td>0</td>\n",
       "      <td>0</td>\n",
       "    </tr>\n",
       "  </tbody>\n",
       "</table>\n",
       "<p>3 rows × 785 columns</p>\n",
       "</div>"
      ],
      "text/plain": [
       "   label  pixel0  pixel1  pixel2  pixel3  pixel4  pixel5  pixel6  pixel7  \\\n",
       "0      1       0       0       0       0       0       0       0       0   \n",
       "1      0       0       0       0       0       0       0       0       0   \n",
       "2      1       0       0       0       0       0       0       0       0   \n",
       "\n",
       "   pixel8  ...  pixel774  pixel775  pixel776  pixel777  pixel778  pixel779  \\\n",
       "0       0  ...         0         0         0         0         0         0   \n",
       "1       0  ...         0         0         0         0         0         0   \n",
       "2       0  ...         0         0         0         0         0         0   \n",
       "\n",
       "   pixel780  pixel781  pixel782  pixel783  \n",
       "0         0         0         0         0  \n",
       "1         0         0         0         0  \n",
       "2         0         0         0         0  \n",
       "\n",
       "[3 rows x 785 columns]"
      ]
     },
     "execution_count": 3,
     "metadata": {},
     "output_type": "execute_result"
    }
   ],
   "source": [
    "# Display the first 3 entries in the train dataset\n",
    "train_df.head(3)"
   ]
  },
  {
   "cell_type": "code",
   "execution_count": 4,
   "id": "de9d6112",
   "metadata": {},
   "outputs": [
    {
     "data": {
      "text/plain": [
       "<AxesSubplot:>"
      ]
     },
     "execution_count": 4,
     "metadata": {},
     "output_type": "execute_result"
    },
    {
     "data": {
      "image/png": "[encoded data removed]",
      "text/plain": [
       "<Figure size 432x288 with 1 Axes>"
      ]
     },
     "metadata": {
      "needs_background": "light"
     },
     "output_type": "display_data"
    }
   ],
   "source": [
    "train_df['label'].hist()\n",
    "# From visualizing the dataset it is observed that the data is evenly distributed thought the digit 1 has more occurance\n",
    "# relating to other digits.\n"
   ]
  },
  {
   "cell_type": "code",
   "execution_count": 5,
   "id": "663272f4",
   "metadata": {},
   "outputs": [
    {
     "name": "stdout",
     "output_type": "stream",
     "text": [
      "Distribution of digit_cat on train set : \n",
      " 1    0.111518\n",
      "7    0.104792\n",
      "3    0.103601\n",
      "9    0.099702\n",
      "2    0.099464\n",
      "6    0.098482\n",
      "0    0.098393\n",
      "4    0.096964\n",
      "8    0.096726\n",
      "5    0.090357\n",
      "Name: label, dtype: float64\n",
      "\n",
      "Distribution of digit_cat on test set : \n",
      " 1    0.111548\n",
      "7    0.104762\n",
      "3    0.103571\n",
      "9    0.099762\n",
      "2    0.099405\n",
      "6    0.098571\n",
      "0    0.098333\n",
      "4    0.096905\n",
      "8    0.096786\n",
      "5    0.090357\n",
      "Name: label, dtype: float64\n"
     ]
    }
   ],
   "source": [
    "# Split data into train and validation set\n",
    "# you don’t want one fold to be missing some digits). Moreover, some learning algorithms are sensitive to the order of the train set\n",
    "# instances, and they perform poorly if they get many similar instances in a row. Shuffling the dataset ensures that this won’t happen\n",
    "\n",
    "\n",
    "\n",
    "split = StratifiedShuffleSplit(n_splits=1, test_size=0.2, random_state=2)\n",
    "\n",
    "for train_index, val_index in split.split(train_df, train_df['label']):\n",
    "    \n",
    "    split_train = train_df.iloc[train_index]\n",
    "    split_val = train_df.iloc[val_index]\n",
    "    \n",
    "    \n",
    "    \n",
    "print(f'Distribution of digit_cat on train set : \\n {split_train.label.value_counts()/len(split_train)}')\n",
    "\n",
    "print()\n",
    "\n",
    "print(f'Distribution of digit_cat on test set : \\n {split_val.label.value_counts()/len(split_val)}')\n"
   ]
  },
  {
   "cell_type": "code",
   "execution_count": 6,
   "id": "a793a6a7",
   "metadata": {},
   "outputs": [
    {
     "name": "stdout",
     "output_type": "stream",
     "text": [
      "The shape of training set is (33600, 785)\n",
      "While the shape of validation set is (8400, 785)\n"
     ]
    }
   ],
   "source": [
    "# Verify the distribution  \n",
    "print(f\"The shape of training set is {split_train.shape}\")\n",
    "print(f\"While the shape of validation set is {split_val.shape}\")"
   ]
  },
  {
   "cell_type": "code",
   "execution_count": 7,
   "id": "a88ccef5",
   "metadata": {},
   "outputs": [
    {
     "data": {
      "text/plain": [
       "(8400, 785)"
      ]
     },
     "execution_count": 7,
     "metadata": {},
     "output_type": "execute_result"
    }
   ],
   "source": [
    "split_val.shape"
   ]
  },
  {
   "cell_type": "code",
   "execution_count": 8,
   "id": "a8b3077b",
   "metadata": {},
   "outputs": [],
   "source": [
    "# Split the training data to features and label\n",
    "train_copy = split_train.copy()\n",
    "\n",
    "X_train = train_copy.drop(columns='label')\n",
    "\n",
    "y_train = train_copy.label"
   ]
  },
  {
   "cell_type": "code",
   "execution_count": 9,
   "id": "aa2fd897",
   "metadata": {},
   "outputs": [],
   "source": [
    "#There are 33,600 images, and each image has 784 features in the training dataset. This is because each image\n",
    "#is 28×28 pixels, and each feature simply represents one pixel’s intensity, from 0 (white) to 255 (black). \n",
    "#Let’s take a peek at one digit from the dataset.\"\"\""
   ]
  },
  {
   "cell_type": "code",
   "execution_count": 10,
   "id": "d9f3f9a7",
   "metadata": {},
   "outputs": [
    {
     "name": "stdout",
     "output_type": "stream",
     "text": [
      "Image label : 1\n"
     ]
    },
    {
     "data": {
      "text/plain": [
       "<matplotlib.image.AxesImage at 0x1fddb2c82b0>"
      ]
     },
     "execution_count": 10,
     "metadata": {},
     "output_type": "execute_result"
    },
    {
     "data": {
      "image/png": "[encoded data removed]",
      "text/plain": [
       "<Figure size 432x288 with 1 Axes>"
      ]
     },
     "metadata": {
      "needs_background": "light"
     },
     "output_type": "display_data"
    }
   ],
   "source": [
    "some_data = X_train.iloc[0, ::]\n",
    "\n",
    "some_data = np.array(some_data)\n",
    "some_digits = some_data.reshape(28,28)\n",
    "\n",
    "some_label = y_train.iloc[0]\n",
    "some_label\n",
    "\n",
    "print(f'Image label : {some_label}')\n",
    "plt.imshow(some_digits, cmap = plt.cm.binary, interpolation=\"nearest\")\n",
    "\n",
    "# This image looks like a 1 and indeed it is the value 1"
   ]
  },
  {
   "cell_type": "markdown",
   "id": "c73ba664",
   "metadata": {},
   "source": [
    "## Data Preprocessing"
   ]
  },
  {
   "cell_type": "code",
   "execution_count": 11,
   "id": "4747b584",
   "metadata": {},
   "outputs": [],
   "source": [
    "def dataframe_to_array(df):\n",
    "    \n",
    "    df = np.array(df)\n",
    "    \n",
    "    return df\n",
    "\n",
    "\n",
    "X_train_array = dataframe_to_array(X_train)\n",
    "y_train_array = dataframe_to_array(y_train)"
   ]
  },
  {
   "cell_type": "code",
   "execution_count": 12,
   "id": "b7cfec9d",
   "metadata": {},
   "outputs": [],
   "source": [
    "scale_pipe = Pipeline([('std_scaler', StandardScaler()),])\n",
    "\n",
    "# Copy the data set and transform it using the generated pipeline\n",
    "# The pixel range are from 0 to 255. Scaling this value would yield better performance to the model\n",
    "\n",
    "scaled_x_train = scale_pipe.fit_transform(X_train_array)\n"
   ]
  },
  {
   "cell_type": "code",
   "execution_count": 13,
   "id": "685f7152",
   "metadata": {},
   "outputs": [
    {
     "data": {
      "text/plain": [
       "8.567629346830202"
      ]
     },
     "execution_count": 13,
     "metadata": {},
     "output_type": "execute_result"
    }
   ],
   "source": [
    "# Ensure the data are successfully scaled\n",
    "scaled_x_train[0].max()"
   ]
  },
  {
   "cell_type": "markdown",
   "id": "3a857b0a",
   "metadata": {},
   "source": [
    "## Prediction"
   ]
  },
  {
   "cell_type": "code",
   "execution_count": 14,
   "id": "96403a71",
   "metadata": {},
   "outputs": [
    {
     "data": {
      "text/plain": [
       "BaggingClassifier(base_estimator=DecisionTreeClassifier(), max_samples=100,\n",
       "                  n_estimators=500, n_jobs=-1, oob_score=True)"
      ]
     },
     "execution_count": 14,
     "metadata": {},
     "output_type": "execute_result"
    }
   ],
   "source": [
    "bag_clf = BaggingClassifier(\n",
    "DecisionTreeClassifier(), n_estimators=500,max_samples=100, bootstrap=True, n_jobs=-1, oob_score=True)\n",
    "bag_clf.fit(scaled_x_train, y_train_array)\n"
   ]
  },
  {
   "cell_type": "code",
   "execution_count": 15,
   "id": "05d67419",
   "metadata": {},
   "outputs": [
    {
     "data": {
      "text/plain": [
       "0.8442559523809524"
      ]
     },
     "execution_count": 15,
     "metadata": {},
     "output_type": "execute_result"
    }
   ],
   "source": [
    "bag_clf.oob_score_"
   ]
  },
  {
   "cell_type": "code",
   "execution_count": null,
   "id": "7eb34661",
   "metadata": {},
   "outputs": [],
   "source": []
  }
 ],
 "metadata": {
  "kernelspec": {
   "display_name": "Python 3 (ipykernel)",
   "language": "python",
   "name": "python3"
  },
  "language_info": {
   "codemirror_mode": {
    "name": "ipython",
    "version": 3
   },
   "file_extension": ".py",
   "mimetype": "text/x-python",
   "name": "python",
   "nbconvert_exporter": "python",
   "pygments_lexer": "ipython3",
   "version": "3.9.7"
  }
 },
 "nbformat": 4,
 "nbformat_minor": 5
}
