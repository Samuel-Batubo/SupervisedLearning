{
 "cells": [
  {
   "cell_type": "code",
   "execution_count": null,
   "id": "0e2e848a",
   "metadata": {},
   "outputs": [],
   "source": [
    "from zipfile import ZipFile\n",
    "\n",
    "class zipfile_extracting(ZipFile):\n",
    "    \n",
    "    def __init__(self, file_path, destination):\n",
    "        self.file_path = file_path\n",
    "        self.destination = destination\n",
    "        \n",
    "    def unzipping(self):\n",
    "        with ZipFile(self.file_path, 'r') as zipped:\n",
    "            zipped.extractall(self.destination)\n",
    "            \n",
    "            "
   ]
  }
 ],
 "metadata": {
  "kernelspec": {
   "display_name": "Python 3 (ipykernel)",
   "language": "python",
   "name": "python3"
  },
  "language_info": {
   "codemirror_mode": {
    "name": "ipython",
    "version": 3
   },
   "file_extension": ".py",
   "mimetype": "text/x-python",
   "name": "python",
   "nbconvert_exporter": "python",
   "pygments_lexer": "ipython3",
   "version": "3.9.7"
  }
 },
 "nbformat": 4,
 "nbformat_minor": 5
}
